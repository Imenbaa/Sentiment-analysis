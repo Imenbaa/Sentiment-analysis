{
 "cells": [
  {
   "cell_type": "code",
   "execution_count": 1,
   "metadata": {},
   "outputs": [
    {
     "name": "stderr",
     "output_type": "stream",
     "text": [
      "Using TensorFlow backend.\n"
     ]
    }
   ],
   "source": [
    "import matplotlib.pyplot as plt\n",
    "from matplotlib import pyplot\n",
    "import tensorflow as tf\n",
    "from nltk import FreqDist\n",
    "import numpy as np\n",
    "import pandas as pd\n",
    "from keras.callbacks import EarlyStopping, ModelCheckpoint, TensorBoard\n",
    "from scipy.spatial.distance import cdist\n",
    "from tensorflow.python.keras.models import Sequential\n",
    "from tensorflow.python.keras.layers import Dense, LSTM, Embedding,Bidirectional,Dropout\n",
    "from tensorflow.python.keras.optimizers import Adam,SGD\n",
    "from tensorflow.python.keras.preprocessing.text import Tokenizer\n",
    "from tensorflow.python.keras.preprocessing.sequence import pad_sequences\n",
    "from keras import regularizers\n",
    "from sklearn.metrics import roc_auc_score\n",
    "import csv\n",
    "from sklearn.model_selection import train_test_split\n",
    "import nltk\n",
    "import re"
   ]
  },
  {
   "cell_type": "code",
   "execution_count": 2,
   "metadata": {},
   "outputs": [
    {
     "name": "stderr",
     "output_type": "stream",
     "text": [
      "C:\\Users\\Imen\\Downloads\\WPy-3662\\python-3.6.6.amd64\\lib\\site-packages\\pandas\\core\\frame.py:6211: FutureWarning: Sorting because non-concatenation axis is not aligned. A future version\n",
      "of pandas will change to not sort by default.\n",
      "\n",
      "To accept the future behavior, pass 'sort=False'.\n",
      "\n",
      "To retain the current behavior and silence the warning, pass 'sort=True'.\n",
      "\n",
      "  sort=sort)\n"
     ]
    }
   ],
   "source": [
    "#extract data from amazon.com\n",
    "#load data from csv file\n",
    "dataset=pd.read_csv('ourdata2.csv')\n",
    "dataset3=pd.read_csv('ourdata3.csv')\n",
    "dataset4=pd.read_csv('ourdata4.csv')\n",
    "dataset5=pd.read_csv('ourdata5.csv')\n",
    "dataset6=pd.read_csv('ourdata6.csv')\n",
    "dataset7=pd.read_csv('ourdata7.csv')\n",
    "dataset8=pd.read_csv('ourdata8.csv')\n",
    "dataset9=pd.read_csv('ourdata9.csv')\n",
    "dataset10=pd.read_csv('ourdata10.csv')\n",
    "dataset=dataset.append(dataset3)\n",
    "dataset=dataset.append(dataset4)\n",
    "dataset=dataset.append(dataset5)\n",
    "dataset=dataset.append(dataset6)\n",
    "dataset=dataset.append(dataset7)\n",
    "dataset=dataset.append(dataset8)\n",
    "dataset=dataset.append(dataset9)\n",
    "dataset=dataset.append(dataset10)\n"
   ]
  },
  {
   "cell_type": "code",
   "execution_count": 3,
   "metadata": {},
   "outputs": [
    {
     "name": "stderr",
     "output_type": "stream",
     "text": [
      "C:\\Users\\Imen\\Downloads\\WPy-3662\\python-3.6.6.amd64\\lib\\site-packages\\ipykernel_launcher.py:52: SettingWithCopyWarning: \n",
      "A value is trying to be set on a copy of a slice from a DataFrame.\n",
      "Try using .loc[row_indexer,col_indexer] = value instead\n",
      "\n",
      "See the caveats in the documentation: http://pandas.pydata.org/pandas-docs/stable/indexing.html#indexing-view-versus-copy\n",
      "C:\\Users\\Imen\\Downloads\\WPy-3662\\python-3.6.6.amd64\\lib\\site-packages\\ipykernel_launcher.py:54: SettingWithCopyWarning: \n",
      "A value is trying to be set on a copy of a slice from a DataFrame.\n",
      "Try using .loc[row_indexer,col_indexer] = value instead\n",
      "\n",
      "See the caveats in the documentation: http://pandas.pydata.org/pandas-docs/stable/indexing.html#indexing-view-versus-copy\n"
     ]
    }
   ],
   "source": [
    "linee=[]\n",
    "for line in dataset['review_text']:\n",
    "    if line[1]==\"'\":\n",
    "        linee.append(line.replace(\"['\",' '))\n",
    "    elif line[1]=='\"':\n",
    "        linee.append(line.replace('[\"',' ')) \n",
    "    else:\n",
    "        linee.append(line)\n",
    "linee1=[]\n",
    "for line in linee:\n",
    "    linee1.append(line.replace(\"']\",' '))\n",
    "linee2=[]\n",
    "for line in linee1:\n",
    "    linee2.append(line.replace('\"]',' ')) \n",
    "dataset['review_text']=linee2\n",
    "linee=[]\n",
    "for line in dataset['title']:\n",
    "    if line[1]==\"'\":\n",
    "        linee.append(line.replace(\"['\",' '))\n",
    "    elif line[1]=='\"':\n",
    "        linee.append(line.replace('[\"',' ')) \n",
    "    else:\n",
    "        linee.append(line)\n",
    "linee1=[]\n",
    "for line in linee:\n",
    "    linee1.append(line.replace(\"']\",' '))\n",
    "linee2=[]\n",
    "for line in linee1:\n",
    "    linee2.append(line.replace('\"]',' ')) \n",
    "dataset['title']=linee2\n",
    "dataset=dataset.drop(['Unnamed: 0'],axis=1)\n",
    "\n",
    "#join title and review text\n",
    "dataset['reviews'] = dataset[['title', 'review_text']].apply(lambda x: ''.join(x), axis=1)\n",
    "dataset['reviews']=dataset['reviews']+'°'\n",
    "dataset=dataset.drop(['review_text'],axis=1)\n",
    "dataset=dataset.drop(['title'],axis=1)\n",
    "splitter=[]\n",
    "listt=[]\n",
    "for rate in dataset['rating']:\n",
    "    splitter.append(rate.split(' '))\n",
    "for rate in splitter:\n",
    "    listt.append((list(rate[0]))[2])\n",
    "dataset['rating']=listt\n",
    "\n",
    "#now our dataset is ready , we start data preprocessing\n",
    "\n",
    "# Remove any 'neutral' ratings equal to 3\n",
    "Neutral = dataset[dataset['rating'] == '3']\n",
    "#dataset = dataset[dataset['rating'] != '3']\n",
    "dataset_pos = dataset[dataset['rating'] > '3']\n",
    "dataset_pos['rating']=1\n",
    "dataset_neg = dataset[dataset['rating'] < '3']\n",
    "dataset_neg['rating']=0\n",
    "dataset_pos1=[]\n",
    "k=0\n",
    "for i in dataset_pos['reviews']:\n",
    "    if k<len(dataset_neg):\n",
    "        dataset_pos1.append(i)\n",
    "    k+=1\n",
    "pos_label=[]\n",
    "k=0\n",
    "for i in dataset_pos['rating']:\n",
    "    if k<len(dataset_neg):\n",
    "        pos_label.append(i)\n",
    "    k+=1\n",
    "dataset_neg1=[]\n",
    "k=0\n",
    "for i in dataset_neg['reviews']:\n",
    "    if k<len(dataset_neg):\n",
    "        dataset_neg1.append(i)\n",
    "    k+=1\n",
    "neg_label=[]\n",
    "k=0\n",
    "for i in dataset_neg['rating']:\n",
    "    if k<len(dataset_neg):\n",
    "        neg_label.append(i)\n",
    "    k+=1\n",
    "label=pos_label+neg_label\n",
    "data1=dataset_pos1+dataset_neg1\n"
   ]
  },
  {
   "cell_type": "code",
   "execution_count": 4,
   "metadata": {},
   "outputs": [],
   "source": [
    "X_train, X_test, y_train, y_test = train_test_split(\n",
    "    data1, label, test_size=0.2, random_state=1)\n",
    "X_train, X_val, y_train, y_val = train_test_split(\n",
    "    X_train, y_train, test_size=0.25, random_state=1)"
   ]
  },
  {
   "cell_type": "code",
   "execution_count": 5,
   "metadata": {},
   "outputs": [],
   "source": [
    "hors_stop_words=['against','between','before','after','above','below','up','down','over','under','again','all','any','both','each','few',\n",
    " 'more','most','some','no','nor','not','same','so','too','very',\"don't\",'should',\"should've\",'ain','aren',\"aren't\",'couldn',\"couldn't\",'didn',\"didn't\",'doesn',\"doesn't\",'hadn',\"hadn't\",'hasn',\"hasn't\",'haven',\"haven't\",'isn',\"isn't\",'mightn', \"mightn't\",'mustn',\"mustn't\",'needn',\"needn't\",'shan',\"shan't\",'shouldn',\"shouldn't\",'wasn',\"wasn't\",'weren',\"weren't\",'won',\"won't\",'wouldn',\"wouldn't\"]\n",
    "stopword_list = nltk.corpus.stopwords.words('english')\n",
    "stopword_list=list(stopword_list)\n",
    "for i in hors_stop_words:\n",
    "    stopword_list.remove(i)"
   ]
  },
  {
   "cell_type": "code",
   "execution_count": 6,
   "metadata": {},
   "outputs": [],
   "source": [
    "tokenizer1=nltk.tokenize.TreebankWordTokenizer()\n",
    "#function lower_case\n",
    "def treat_test_train(X):\n",
    "    tokens=[]\n",
    "    for sentence in X:\n",
    "        sentence_lowercase=sentence.lower()\n",
    "        tokens.append(tokenizer1.tokenize(sentence_lowercase))\n",
    "    filtered_words = [] \n",
    "    for t in tokens:\n",
    "        for w in t:\n",
    "            if w not in stopword_list:\n",
    "                filtered_words.append(w)\n",
    "    WNlemma = nltk.WordNetLemmatizer()\n",
    "    filtered_words=[WNlemma.lemmatize(t) for t in filtered_words]\n",
    "    textofreviews=' '.join(filtered_words)\n",
    "    splited=textofreviews.split('°')\n",
    "    listt=[]\n",
    "    for sentence in splited: \n",
    "        listt.append(re.sub(r'\\W+', ' ', sentence))\n",
    "    tokens2=[]\n",
    "    for sentence in listt:\n",
    "        tokens2.append(tokenizer1.tokenize(sentence))\n",
    "    listt=[]\n",
    "    for t in tokens2:\n",
    "        listt.append(' '.join(t))\n",
    "    splited=listt\n",
    "    text=list(splited)\n",
    "    return text"
   ]
  },
  {
   "cell_type": "code",
   "execution_count": 7,
   "metadata": {},
   "outputs": [],
   "source": [
    "X_test=treat_test_train(X_test)\n",
    "X_test.remove(X_test[360])\n",
    "X_train=treat_test_train(X_train)\n",
    "X_train.remove(X_train[1078])\n",
    "X_val=treat_test_train(X_val)\n",
    "X_val.remove(X_val[360])\n",
    "\n",
    "data= X_train + X_test+X_val"
   ]
  },
  {
   "cell_type": "code",
   "execution_count": 8,
   "metadata": {},
   "outputs": [
    {
     "data": {
      "image/png": "[encoded data removed]",
      "text/plain": [
       "<Figure size 432x288 with 1 Axes>"
      ]
     },
     "metadata": {
      "needs_background": "light"
     },
     "output_type": "display_data"
    }
   ],
   "source": [
    "num_words = 100000\n",
    "tokenizer = Tokenizer(num_words=num_words)\n",
    "tokenizer.fit_on_texts(data)\n",
    "#tokenizer.word_index\n",
    "x_train_tokens = tokenizer.texts_to_sequences(X_train)\n",
    "x_test_tokens = tokenizer.texts_to_sequences(X_test)\n",
    "x_val_tokens = tokenizer.texts_to_sequences(X_val)\n",
    "#☻padding and truncating data\n",
    "# count the number of tokens in all the sequences in the data-set.\n",
    "num_tokens = [len(tokens) for tokens in x_train_tokens + x_test_tokens]\n",
    "num_tokens = np.array(num_tokens)\n",
    "pyplot.hist(num_tokens)\n",
    "plt.title('Distribution of reviews length in the dataset')\n",
    "plt.ylabel('Length of comments')\n",
    "plt.xlabel('Number of comments')\n",
    "plt.show()"
   ]
  },
  {
   "cell_type": "code",
   "execution_count": 9,
   "metadata": {},
   "outputs": [],
   "source": [
    "max_tokens = np.mean(num_tokens) + 2 * np.std(num_tokens)\n",
    "max_tokens = int(max_tokens)"
   ]
  },
  {
   "cell_type": "code",
   "execution_count": 10,
   "metadata": {},
   "outputs": [],
   "source": [
    "pad = 'post'\n",
    "x_train_pad = pad_sequences(x_train_tokens, maxlen=max_tokens,\n",
    "                            padding=pad, truncating=pad)\n",
    "x_test_pad = pad_sequences(x_test_tokens, maxlen=max_tokens,\n",
    "                           padding=pad, truncating=pad)\n",
    "x_val_pad = pad_sequences(x_val_tokens, maxlen=max_tokens,\n",
    "                           padding=pad, truncating=pad)"
   ]
  },
  {
   "cell_type": "code",
   "execution_count": 11,
   "metadata": {},
   "outputs": [
    {
     "name": "stderr",
     "output_type": "stream",
     "text": [
      "C:\\Users\\Imen\\Downloads\\WPy-3662\\python-3.6.6.amd64\\lib\\site-packages\\tensorflow\\python\\ops\\gradients_impl.py:112: UserWarning: Converting sparse IndexedSlices to a dense Tensor of unknown shape. This may consume a large amount of memory.\n",
      "  \"Converting sparse IndexedSlices to a dense Tensor of unknown shape. \"\n"
     ]
    },
    {
     "name": "stdout",
     "output_type": "stream",
     "text": [
      "Train on 1078 samples, validate on 360 samples\n",
      "Epoch 1/10\n",
      "1078/1078 [==============================] - 15s 14ms/step - loss: 0.6885 - acc: 0.5714 - val_loss: 0.6652 - val_acc: 0.8500\n",
      "Epoch 2/10\n",
      "1078/1078 [==============================] - 12s 11ms/step - loss: 0.5527 - acc: 0.8293 - val_loss: 0.3767 - val_acc: 0.8639\n",
      "Epoch 3/10\n",
      "1078/1078 [==============================] - 12s 12ms/step - loss: 0.3758 - acc: 0.8766 - val_loss: 0.2952 - val_acc: 0.8778\n",
      "Epoch 4/10\n",
      "1078/1078 [==============================] - 12s 11ms/step - loss: 0.2373 - acc: 0.9267 - val_loss: 0.2337 - val_acc: 0.9056\n",
      "Epoch 5/10\n",
      "1078/1078 [==============================] - 12s 11ms/step - loss: 0.1891 - acc: 0.9378 - val_loss: 0.2141 - val_acc: 0.9139\n",
      "Epoch 6/10\n",
      "1078/1078 [==============================] - 12s 11ms/step - loss: 0.1450 - acc: 0.9564 - val_loss: 0.1971 - val_acc: 0.9250\n",
      "Epoch 7/10\n",
      "1078/1078 [==============================] - 12s 11ms/step - loss: 0.1122 - acc: 0.9740 - val_loss: 0.2004 - val_acc: 0.9167\n",
      "Epoch 8/10\n",
      "1078/1078 [==============================] - 12s 12ms/step - loss: 0.0872 - acc: 0.9805 - val_loss: 0.1970 - val_acc: 0.9278\n",
      "Epoch 9/10\n",
      "1078/1078 [==============================] - 12s 11ms/step - loss: 0.1006 - acc: 0.9703 - val_loss: 0.1873 - val_acc: 0.9306\n",
      "Epoch 10/10\n",
      "1078/1078 [==============================] - 12s 11ms/step - loss: 0.0766 - acc: 0.9740 - val_loss: 0.1840 - val_acc: 0.9389\n"
     ]
    }
   ],
   "source": [
    "model = Sequential()\n",
    "embedding_size =8\n",
    "model.add(Embedding(input_dim=num_words,\n",
    "                    output_dim=embedding_size,\n",
    "                    input_length=max_tokens,\n",
    "                    name='layer_embedding'))\n",
    "model.add(Bidirectional(LSTM(70,recurrent_dropout=0.5,dropout=0.5)))\n",
    "model.add(Dropout(0.5))\n",
    "model.add(Dense(1,activation='sigmoid'))\n",
    "model.compile(loss='binary_crossentropy',\n",
    "              optimizer=Adam(),\n",
    "              metrics=['accuracy'])\n",
    "#model.load_weights(filepath)\n",
    "history=model.fit(x_train_pad, y_train,validation_data=(x_val_pad, y_val), epochs=10, batch_size=10)"
   ]
  },
  {
   "cell_type": "code",
   "execution_count": 12,
   "metadata": {},
   "outputs": [
    {
     "name": "stdout",
     "output_type": "stream",
     "text": [
      "dict_keys(['val_loss', 'val_acc', 'loss', 'acc'])\n"
     ]
    },
    {
     "data": {
      "image/png": "[encoded data removed]",
      "text/plain": [
       "<Figure size 432x288 with 1 Axes>"
      ]
     },
     "metadata": {
      "needs_background": "light"
     },
     "output_type": "display_data"
    }
   ],
   "source": [
    "# list all data in history\n",
    "print(history.history.keys())\n",
    "# summarize history for accuracy\n",
    "plt.plot(history.history['acc'])\n",
    "plt.plot(history.history['val_acc'])\n",
    "plt.title('model accuracy')\n",
    "plt.ylabel('accuracy')\n",
    "plt.xlabel('epoch')\n",
    "plt.legend(['train', 'test'], loc='upper left')\n",
    "plt.show()"
   ]
  },
  {
   "cell_type": "code",
   "execution_count": 13,
   "metadata": {},
   "outputs": [
    {
     "data": {
      "image/png": "[encoded data removed]",
      "text/plain": [
       "<Figure size 432x288 with 1 Axes>"
      ]
     },
     "metadata": {
      "needs_background": "light"
     },
     "output_type": "display_data"
    }
   ],
   "source": [
    "# summarize history for loss\n",
    "plt.plot(history.history['loss'])\n",
    "plt.plot(history.history['val_loss'])\n",
    "plt.title('model loss')\n",
    "plt.ylabel('loss')\n",
    "plt.xlabel('epoch')\n",
    "plt.legend(['train', 'test'], loc='upper left')\n",
    "plt.show()"
   ]
  },
  {
   "cell_type": "code",
   "execution_count": 15,
   "metadata": {},
   "outputs": [
    {
     "name": "stdout",
     "output_type": "stream",
     "text": [
      "AUC:  0.986601216387268\n"
     ]
    }
   ],
   "source": [
    "y_pred = model.predict(x=x_test_pad)\n",
    "print('AUC: ', roc_auc_score(y_test, y_pred))\n",
    "test=pd.read_csv('Comments_Facebook_mascara.csv')\n",
    "test=test.drop(['Unnamed: 0'],axis=1)\n",
    "tt=[]\n",
    "for t in test['0']:\n",
    "    tt.append(t)\n"
   ]
  },
  {
   "cell_type": "code",
   "execution_count": 17,
   "metadata": {},
   "outputs": [
    {
     "data": {
      "text/plain": [
       "array([[0],\n",
       "       [1],\n",
       "       [0],\n",
       "       [0],\n",
       "       [0],\n",
       "       [1],\n",
       "       [1],\n",
       "       [0],\n",
       "       [1],\n",
       "       [1],\n",
       "       [0],\n",
       "       [0],\n",
       "       [0],\n",
       "       [0],\n",
       "       [0],\n",
       "       [1],\n",
       "       [0],\n",
       "       [1],\n",
       "       [0],\n",
       "       [0],\n",
       "       [1],\n",
       "       [0],\n",
       "       [0],\n",
       "       [0],\n",
       "       [1],\n",
       "       [0],\n",
       "       [0],\n",
       "       [0],\n",
       "       [0],\n",
       "       [1],\n",
       "       [0],\n",
       "       [0],\n",
       "       [0],\n",
       "       [1],\n",
       "       [1],\n",
       "       [0],\n",
       "       [1],\n",
       "       [0],\n",
       "       [0],\n",
       "       [0],\n",
       "       [0],\n",
       "       [0],\n",
       "       [0],\n",
       "       [0],\n",
       "       [0],\n",
       "       [0],\n",
       "       [0],\n",
       "       [0],\n",
       "       [0],\n",
       "       [0],\n",
       "       [0],\n",
       "       [1],\n",
       "       [0],\n",
       "       [0],\n",
       "       [0],\n",
       "       [0],\n",
       "       [0],\n",
       "       [0],\n",
       "       [1],\n",
       "       [1],\n",
       "       [1],\n",
       "       [0],\n",
       "       [1],\n",
       "       [0],\n",
       "       [0],\n",
       "       [0],\n",
       "       [0],\n",
       "       [0],\n",
       "       [1],\n",
       "       [0],\n",
       "       [0],\n",
       "       [0],\n",
       "       [0],\n",
       "       [0],\n",
       "       [1],\n",
       "       [0],\n",
       "       [0],\n",
       "       [1],\n",
       "       [0],\n",
       "       [0],\n",
       "       [1],\n",
       "       [0],\n",
       "       [0],\n",
       "       [0],\n",
       "       [1],\n",
       "       [1],\n",
       "       [0],\n",
       "       [1],\n",
       "       [1],\n",
       "       [0],\n",
       "       [1],\n",
       "       [1],\n",
       "       [1],\n",
       "       [0],\n",
       "       [0],\n",
       "       [1],\n",
       "       [1],\n",
       "       [0],\n",
       "       [0],\n",
       "       [0],\n",
       "       [1],\n",
       "       [1],\n",
       "       [0],\n",
       "       [1],\n",
       "       [0],\n",
       "       [1],\n",
       "       [0],\n",
       "       [0],\n",
       "       [0],\n",
       "       [0],\n",
       "       [0],\n",
       "       [0],\n",
       "       [0],\n",
       "       [0],\n",
       "       [0],\n",
       "       [0],\n",
       "       [0],\n",
       "       [1],\n",
       "       [1],\n",
       "       [0],\n",
       "       [1],\n",
       "       [0],\n",
       "       [1],\n",
       "       [0],\n",
       "       [0],\n",
       "       [0],\n",
       "       [1],\n",
       "       [1],\n",
       "       [1],\n",
       "       [0],\n",
       "       [0],\n",
       "       [1],\n",
       "       [0],\n",
       "       [0],\n",
       "       [0],\n",
       "       [0],\n",
       "       [0],\n",
       "       [0],\n",
       "       [0],\n",
       "       [0],\n",
       "       [1],\n",
       "       [0],\n",
       "       [1],\n",
       "       [0],\n",
       "       [0],\n",
       "       [0],\n",
       "       [0],\n",
       "       [0],\n",
       "       [0],\n",
       "       [1],\n",
       "       [1],\n",
       "       [1],\n",
       "       [1],\n",
       "       [1],\n",
       "       [0],\n",
       "       [0],\n",
       "       [0],\n",
       "       [1],\n",
       "       [1],\n",
       "       [1],\n",
       "       [0],\n",
       "       [1],\n",
       "       [1],\n",
       "       [1],\n",
       "       [1],\n",
       "       [0],\n",
       "       [1],\n",
       "       [1],\n",
       "       [1],\n",
       "       [1],\n",
       "       [1],\n",
       "       [1],\n",
       "       [0],\n",
       "       [1],\n",
       "       [1],\n",
       "       [1],\n",
       "       [0],\n",
       "       [0],\n",
       "       [0],\n",
       "       [1],\n",
       "       [1],\n",
       "       [1],\n",
       "       [0],\n",
       "       [1],\n",
       "       [0],\n",
       "       [0],\n",
       "       [1],\n",
       "       [1],\n",
       "       [1],\n",
       "       [1],\n",
       "       [0],\n",
       "       [0],\n",
       "       [0],\n",
       "       [1],\n",
       "       [1],\n",
       "       [0],\n",
       "       [0],\n",
       "       [1],\n",
       "       [1],\n",
       "       [1],\n",
       "       [1],\n",
       "       [1],\n",
       "       [1],\n",
       "       [0],\n",
       "       [0],\n",
       "       [0],\n",
       "       [1],\n",
       "       [1],\n",
       "       [0],\n",
       "       [0],\n",
       "       [0],\n",
       "       [1],\n",
       "       [1],\n",
       "       [1],\n",
       "       [1],\n",
       "       [1],\n",
       "       [1],\n",
       "       [0],\n",
       "       [1],\n",
       "       [0],\n",
       "       [1],\n",
       "       [1],\n",
       "       [0],\n",
       "       [0],\n",
       "       [0],\n",
       "       [1],\n",
       "       [0],\n",
       "       [1],\n",
       "       [1],\n",
       "       [1],\n",
       "       [1],\n",
       "       [0],\n",
       "       [1],\n",
       "       [0],\n",
       "       [0],\n",
       "       [1],\n",
       "       [1],\n",
       "       [0],\n",
       "       [1]])"
      ]
     },
     "execution_count": 17,
     "metadata": {},
     "output_type": "execute_result"
    }
   ],
   "source": [
    "tokens = tokenizer.texts_to_sequences(tt)\n",
    "tokens_pad = pad_sequences(tokens, maxlen=max_tokens,\n",
    "                           padding=pad, truncating=pad)\n",
    "pred = np.where(model.predict(tokens_pad) > 0.5, 1, 0)\n",
    "neg=0\n",
    "pos=0\n",
    "for i in pred:\n",
    "    if i==0:\n",
    "        neg+=1\n",
    "    else:\n",
    "        pos+=1\n",
    "pred"
   ]
  },
  {
   "cell_type": "code",
   "execution_count": 99,
   "metadata": {},
   "outputs": [
    {
     "name": "stdout",
     "output_type": "stream",
     "text": [
      "pourcentage des commentaires positives à propos X fiber mascara dans Facebook=  50.2092050209205 %\n",
      "pourcentage des commentaires négatives à propos X fiber mascara dans Facebook=  49.7907949790795 %\n"
     ]
    }
   ],
   "source": [
    "percentage_pos=pos*100/(pos+neg)\n",
    "percentage_neg=neg*100/(pos+neg)\n",
    "print(\"pourcentage des commentaires positives à propos X fiber mascara dans Facebook= \" , percentage_pos , \"%\")\n",
    "print(\"pourcentage des commentaires négatives à propos X fiber mascara dans Facebook= \" ,percentage_neg , \"%\")\n"
   ]
  },
  {
   "cell_type": "code",
   "execution_count": 27,
   "metadata": {},
   "outputs": [
    {
     "data": {
      "text/plain": [
       "array([[1],\n",
       "       [1],\n",
       "       [1],\n",
       "       [0],\n",
       "       [1],\n",
       "       [0],\n",
       "       [1]])"
      ]
     },
     "execution_count": 27,
     "metadata": {},
     "output_type": "execute_result"
    }
   ],
   "source": [
    "test_youtube=pd.read_table('Comments_youtube_mascara.csv',encoding='latin1')\n",
    "list_test_youtube=[]\n",
    "for i in test_youtube['Summary']:\n",
    "    list_test_youtube.append(i)\n",
    "tokens = tokenizer.texts_to_sequences(list_test_youtube)\n",
    "tokens_pad = pad_sequences(tokens, maxlen=max_tokens,\n",
    "                           padding=pad, truncating=pad)\n",
    "pred = np.where(model.predict(tokens_pad) > 0.5, 1, 0)\n",
    "neg=0\n",
    "pos=0\n",
    "for i in pred:\n",
    "    if i==0:\n",
    "        neg+=1\n",
    "    else:\n",
    "        pos+=1\n",
    "pred"
   ]
  },
  {
   "cell_type": "code",
   "execution_count": null,
   "metadata": {},
   "outputs": [],
   "source": []
  }
 ],
 "metadata": {
  "kernelspec": {
   "display_name": "Python 3",
   "language": "python",
   "name": "python3"
  },
  "language_info": {
   "codemirror_mode": {
    "name": "ipython",
    "version": 3
   },
   "file_extension": ".py",
   "mimetype": "text/x-python",
   "name": "python",
   "nbconvert_exporter": "python",
   "pygments_lexer": "ipython3",
   "version": "3.6.6"
  }
 },
 "nbformat": 4,
 "nbformat_minor": 2
}
